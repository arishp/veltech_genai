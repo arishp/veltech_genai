{
  "nbformat": 4,
  "nbformat_minor": 0,
  "metadata": {
    "colab": {
      "provenance": [],
      "gpuType": "T4",
      "authorship_tag": "ABX9TyO8dZH2lQMk6GaNqHBNYXXq",
      "include_colab_link": true
    },
    "kernelspec": {
      "name": "python3",
      "display_name": "Python 3"
    },
    "language_info": {
      "name": "python"
    },
    "accelerator": "GPU"
  },
  "cells": [
    {
      "cell_type": "markdown",
      "metadata": {
        "id": "view-in-github",
        "colab_type": "text"
      },
      "source": [
        "<a href=\"https://colab.research.google.com/github/arishp/veltech_genai/blob/main/langchain_data_connection.ipynb\" target=\"_parent\"><img src=\"https://colab.research.google.com/assets/colab-badge.svg\" alt=\"Open In Colab\"/></a>"
      ]
    },
    {
      "cell_type": "code",
      "source": [
        "# !pip install langchain\n",
        "# !pip install langchain-community\n",
        "# !pip install langchain-huggingface\n",
        "# !pip install sentence-transformers\n",
        "# !pip install chromadb\n",
        "# !pip install accelerate\n",
        "# !pip install langchain-google-genai"
      ],
      "metadata": {
        "id": "w7ze5KN1wjhI"
      },
      "execution_count": null,
      "outputs": []
    },
    {
      "cell_type": "code",
      "execution_count": 7,
      "metadata": {
        "id": "kfDBJp4LwVv4"
      },
      "outputs": [],
      "source": [
        "from langchain.document_loaders import TextLoader\n",
        "from langchain.text_splitter import CharacterTextSplitter\n",
        "from langchain.embeddings import OpenAIEmbeddings\n",
        "from langchain.vectorstores import Chroma\n",
        "from langchain.chains import RetrievalQA\n",
        "from langchain.embeddings.sentence_transformer import SentenceTransformerEmbeddings\n",
        "from langchain_huggingface import HuggingFaceEndpoint"
      ]
    },
    {
      "cell_type": "markdown",
      "source": [
        "# Document Loaders"
      ],
      "metadata": {
        "id": "Z1JXcPWgxWId"
      }
    },
    {
      "cell_type": "code",
      "source": [
        "loader = TextLoader('sample.txt')\n",
        "documents = loader.load()\n",
        "len(documents)"
      ],
      "metadata": {
        "colab": {
          "base_uri": "https://localhost:8080/"
        },
        "id": "62_lQV7-wfj0",
        "outputId": "18624b21-a64b-4998-a00e-5b08799b79e9"
      },
      "execution_count": 8,
      "outputs": [
        {
          "output_type": "execute_result",
          "data": {
            "text/plain": [
              "1"
            ]
          },
          "metadata": {},
          "execution_count": 8
        }
      ]
    },
    {
      "cell_type": "markdown",
      "source": [
        "# Document Transformers"
      ],
      "metadata": {
        "id": "Q9zEDz4cySgY"
      }
    },
    {
      "cell_type": "code",
      "source": [
        "text_splitter = CharacterTextSplitter(separator=\" \", chunk_size=200, chunk_overlap=0)\n",
        "texts = text_splitter.split_documents(documents)\n",
        "len(texts)"
      ],
      "metadata": {
        "colab": {
          "base_uri": "https://localhost:8080/"
        },
        "id": "aHKFT2lnx1j7",
        "outputId": "a1a2862f-52ca-48dc-d49a-2afa4f759b3e"
      },
      "execution_count": 9,
      "outputs": [
        {
          "output_type": "execute_result",
          "data": {
            "text/plain": [
              "152"
            ]
          },
          "metadata": {},
          "execution_count": 9
        }
      ]
    },
    {
      "cell_type": "code",
      "source": [
        "texts[:2]"
      ],
      "metadata": {
        "colab": {
          "base_uri": "https://localhost:8080/"
        },
        "id": "SN9qmgQAylYq",
        "outputId": "b5f73e3d-973d-4e52-f085-075f91d7c1d7"
      },
      "execution_count": 10,
      "outputs": [
        {
          "output_type": "execute_result",
          "data": {
            "text/plain": [
              "[Document(metadata={'source': 'sample.txt'}, page_content='Mahendra Singh Dhoni (/məˈheɪndrə ˈsɪŋ dhæˈnɪ/ ⓘ; born 7 July 1981) is an Indian professional cricketer who plays as a right-handed batter and a wicket-keeper. Widely regarded as one of the most'),\n",
              " Document(metadata={'source': 'sample.txt'}, page_content='prolific wicket-keeper batsmen and captains, he represented the Indian cricket team and was the captain of the side in limited overs formats from 2007 to 2017 and in test cricket from 2008 to 2014.')]"
            ]
          },
          "metadata": {},
          "execution_count": 10
        }
      ]
    },
    {
      "cell_type": "markdown",
      "source": [
        "# Text Embedding Models"
      ],
      "metadata": {
        "id": "UUgXYx-WzXlT"
      }
    },
    {
      "cell_type": "code",
      "source": [
        "embeddings = SentenceTransformerEmbeddings(model_name=\"all-MiniLM-L6-v2\")"
      ],
      "metadata": {
        "id": "YOGDtxlKzJ6r"
      },
      "execution_count": null,
      "outputs": []
    },
    {
      "cell_type": "markdown",
      "source": [
        "# Vector Stores"
      ],
      "metadata": {
        "id": "EfDdUWga0Lhn"
      }
    },
    {
      "cell_type": "code",
      "source": [
        "db = Chroma.from_documents(texts, embeddings)"
      ],
      "metadata": {
        "id": "EqXoI4mn0KEO"
      },
      "execution_count": 14,
      "outputs": []
    },
    {
      "cell_type": "code",
      "source": [
        "db._collection.get(include=['embeddings'])"
      ],
      "metadata": {
        "id": "c9MylagjzmBi"
      },
      "execution_count": null,
      "outputs": []
    },
    {
      "cell_type": "markdown",
      "source": [
        "# Retrievers"
      ],
      "metadata": {
        "id": "QuvaQwBb04kR"
      }
    },
    {
      "cell_type": "code",
      "source": [
        "retriever = db.as_retriever(search_kwargs={\"k\":3})"
      ],
      "metadata": {
        "id": "ol-RqAc200UK"
      },
      "execution_count": 16,
      "outputs": []
    },
    {
      "cell_type": "code",
      "source": [
        "retriever"
      ],
      "metadata": {
        "colab": {
          "base_uri": "https://localhost:8080/"
        },
        "id": "bejIGX6r1EfB",
        "outputId": "a78c7e2b-b7f6-43a4-9f22-267bef752bb2"
      },
      "execution_count": 17,
      "outputs": [
        {
          "output_type": "execute_result",
          "data": {
            "text/plain": [
              "VectorStoreRetriever(tags=['Chroma', 'HuggingFaceEmbeddings'], vectorstore=<langchain_community.vectorstores.chroma.Chroma object at 0x78ac132ff190>, search_kwargs={'k': 3})"
            ]
          },
          "metadata": {},
          "execution_count": 17
        }
      ]
    },
    {
      "cell_type": "markdown",
      "source": [
        "# Question 1"
      ],
      "metadata": {
        "id": "ZsZ5Oe5i1SU4"
      }
    },
    {
      "cell_type": "code",
      "source": [
        "question = input(\"enter your question?\")"
      ],
      "metadata": {
        "colab": {
          "base_uri": "https://localhost:8080/"
        },
        "id": "z58yALDrhML5",
        "outputId": "dc9c0c0a-8b1c-4fa0-e71a-fa08de99ec3b"
      },
      "execution_count": 18,
      "outputs": [
        {
          "name": "stdout",
          "output_type": "stream",
          "text": [
            "enter your question?who is dhoni's wife?\n"
          ]
        }
      ]
    },
    {
      "cell_type": "code",
      "source": [
        "docs = retriever.get_relevant_documents(question)"
      ],
      "metadata": {
        "id": "8qnbt8VE1F_K",
        "outputId": "3941646c-4b97-4656-939f-feca3c092da1",
        "colab": {
          "base_uri": "https://localhost:8080/"
        }
      },
      "execution_count": 19,
      "outputs": [
        {
          "output_type": "stream",
          "name": "stderr",
          "text": [
            "<ipython-input-19-6ed304eeafec>:1: LangChainDeprecationWarning: The method `BaseRetriever.get_relevant_documents` was deprecated in langchain-core 0.1.46 and will be removed in 1.0. Use :meth:`~invoke` instead.\n",
            "  docs = retriever.get_relevant_documents(question)\n"
          ]
        }
      ]
    },
    {
      "cell_type": "code",
      "source": [
        "docs"
      ],
      "metadata": {
        "colab": {
          "base_uri": "https://localhost:8080/"
        },
        "id": "OqWD4_DT1a3i",
        "outputId": "1cc0e44d-41ab-4f2b-bd4a-3d3a6a2c4d7c"
      },
      "execution_count": 20,
      "outputs": [
        {
          "output_type": "execute_result",
          "data": {
            "text/plain": [
              "[Document(metadata={'source': 'sample.txt'}, page_content='Dehradun.[179][180] Dhoni and his wife have a daughter, Ziva Dhoni who was born on 6 February 2015.[181][182] He lives in his farmhouse outside Ranchi.[183] Dhoni is an automotive enthusiast and owns'),\n",
              " Document(metadata={'source': 'sample.txt'}, page_content='Dhoni is also known for his cool-headed demeanor on the field which has earned him the monicker \"Captain cool\".[178]\\nPersonal life\\n\\nDhoni married Sakshi Singh Rawat on 4 July 2010 in'),\n",
              " Document(metadata={'source': 'sample.txt'}, page_content='wicket-keeper.[119] Dhoni is an unorthodox batsman who deviates from conventional coaching manuals to showcase his batting technique.[167] Dhoni displays a proclivity for hitting full-length')]"
            ]
          },
          "metadata": {},
          "execution_count": 20
        }
      ]
    },
    {
      "cell_type": "code",
      "source": [
        "relevant_text = ''\n",
        "for doc in docs:\n",
        "  relevant_text += doc.page_content\n",
        "print(relevant_text)"
      ],
      "metadata": {
        "colab": {
          "base_uri": "https://localhost:8080/"
        },
        "id": "dOYqE_O8noVX",
        "outputId": "b713898a-8091-4ac4-af2b-ef70f792972d"
      },
      "execution_count": 21,
      "outputs": [
        {
          "output_type": "stream",
          "name": "stdout",
          "text": [
            "Dehradun.[179][180] Dhoni and his wife have a daughter, Ziva Dhoni who was born on 6 February 2015.[181][182] He lives in his farmhouse outside Ranchi.[183] Dhoni is an automotive enthusiast and ownsDhoni is also known for his cool-headed demeanor on the field which has earned him the monicker \"Captain cool\".[178]\n",
            "Personal life\n",
            "\n",
            "Dhoni married Sakshi Singh Rawat on 4 July 2010 inwicket-keeper.[119] Dhoni is an unorthodox batsman who deviates from conventional coaching manuals to showcase his batting technique.[167] Dhoni displays a proclivity for hitting full-length\n"
          ]
        }
      ]
    },
    {
      "cell_type": "code",
      "source": [
        "from langchain_community.llms import HuggingFaceEndpoint\n",
        "from langchain.chains import LLMChain\n",
        "from langchain.prompts import PromptTemplate\n",
        "from google.colab import userdata\n",
        "\n",
        "hf_token = userdata.get('HUGGINGFACE_HUB_API_KEY')\n",
        "\n",
        "# Define the repository ID for the Gemma 2b model\n",
        "repo_id = \"google/gemma-2b\"\n",
        "\n",
        "# Set up a Hugging Face Endpoint for Gemma 2b model\n",
        "llm = HuggingFaceEndpoint(\n",
        "    repo_id=repo_id, max_length=1024, temperature=0.1, huggingfacehub_api_token=hf_token\n",
        ")"
      ],
      "metadata": {
        "colab": {
          "base_uri": "https://localhost:8080/"
        },
        "id": "5e5525Rxi9XT",
        "outputId": "df03e97f-b78f-4b99-d108-956ad039fa0d"
      },
      "execution_count": 22,
      "outputs": [
        {
          "output_type": "stream",
          "name": "stderr",
          "text": [
            "<ipython-input-22-1e4f8a38b56e>:12: LangChainDeprecationWarning: The class `HuggingFaceEndpoint` was deprecated in LangChain 0.0.37 and will be removed in 1.0. An updated version of the class exists in the :class:`~langchain-huggingface package and should be used instead. To use it run `pip install -U :class:`~langchain-huggingface` and import as `from :class:`~langchain_huggingface import HuggingFaceEndpoint``.\n",
            "  llm = HuggingFaceEndpoint(\n",
            "WARNING:langchain_community.llms.huggingface_endpoint:WARNING! max_length is not default parameter.\n",
            "                    max_length was transferred to model_kwargs.\n",
            "                    Please make sure that max_length is what you intended.\n"
          ]
        },
        {
          "output_type": "stream",
          "name": "stdout",
          "text": [
            "The token has not been saved to the git credentials helper. Pass `add_to_git_credential=True` in this function directly or `--add-to-git-credential` if using via `huggingface-cli` if you want to set the git credential as well.\n",
            "Token is valid (permission: read).\n",
            "Your token has been saved to /root/.cache/huggingface/token\n",
            "Login successful\n"
          ]
        }
      ]
    },
    {
      "cell_type": "code",
      "source": [
        "template = \"\"\"Answer the question in one line using the following information:\n",
        "\n",
        "```{information}```.\n",
        "\n",
        "\n",
        "*** Question ***\n",
        "\n",
        "{question}\n",
        "\n",
        "*** Answer ***\"\"\"\n",
        "\n",
        "prompt = PromptTemplate.from_template(template=template)"
      ],
      "metadata": {
        "id": "Py_c2BVOjMIw"
      },
      "execution_count": 23,
      "outputs": []
    },
    {
      "cell_type": "code",
      "source": [
        "prompt_formatted_str: str = prompt.format(question=question, information=relevant_text)\n",
        "response = llm.invoke(prompt_formatted_str)\n",
        "response.strip()"
      ],
      "metadata": {
        "colab": {
          "base_uri": "https://localhost:8080/",
          "height": 35
        },
        "id": "E3uP7Jsqp5K6",
        "outputId": "ab3b3b9f-a5e7-44b1-e1de-59821867ae63"
      },
      "execution_count": 25,
      "outputs": [
        {
          "output_type": "execute_result",
          "data": {
            "text/plain": [
              "'sakshi singh rawat'"
            ],
            "application/vnd.google.colaboratory.intrinsic+json": {
              "type": "string"
            }
          },
          "metadata": {},
          "execution_count": 25
        }
      ]
    },
    {
      "cell_type": "code",
      "source": [],
      "metadata": {
        "id": "ffGywdMEqCeF"
      },
      "execution_count": null,
      "outputs": []
    }
  ]
}