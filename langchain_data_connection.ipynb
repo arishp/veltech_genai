{
  "nbformat": 4,
  "nbformat_minor": 0,
  "metadata": {
    "colab": {
      "provenance": [],
      "gpuType": "T4",
      "authorship_tag": "ABX9TyPwnzBpv8JJI8ree4/u4sA9",
      "include_colab_link": true
    },
    "kernelspec": {
      "name": "python3",
      "display_name": "Python 3"
    },
    "language_info": {
      "name": "python"
    },
    "accelerator": "GPU"
  },
  "cells": [
    {
      "cell_type": "markdown",
      "metadata": {
        "id": "view-in-github",
        "colab_type": "text"
      },
      "source": [
        "<a href=\"https://colab.research.google.com/github/arishp/veltech_genai/blob/main/langchain_data_connection.ipynb\" target=\"_parent\"><img src=\"https://colab.research.google.com/assets/colab-badge.svg\" alt=\"Open In Colab\"/></a>"
      ]
    },
    {
      "cell_type": "code",
      "source": [
        "# !pip install langchain\n",
        "# !pip install sentence-transformers\n",
        "# !pip install chromadb"
      ],
      "metadata": {
        "id": "w7ze5KN1wjhI"
      },
      "execution_count": null,
      "outputs": []
    },
    {
      "cell_type": "code",
      "execution_count": 4,
      "metadata": {
        "id": "kfDBJp4LwVv4"
      },
      "outputs": [],
      "source": [
        "from langchain.document_loaders import TextLoader\n",
        "from langchain.text_splitter import CharacterTextSplitter\n",
        "from langchain.embeddings import OpenAIEmbeddings\n",
        "from langchain.vectorstores import Chroma\n",
        "from langchain.chains import RetrievalQA\n",
        "from langchain.embeddings.sentence_transformer import SentenceTransformerEmbeddings"
      ]
    },
    {
      "cell_type": "markdown",
      "source": [
        "# Document Loaders"
      ],
      "metadata": {
        "id": "Z1JXcPWgxWId"
      }
    },
    {
      "cell_type": "code",
      "source": [
        "loader = TextLoader('sample.txt')\n",
        "documents = loader.load()\n",
        "len(documents)"
      ],
      "metadata": {
        "colab": {
          "base_uri": "https://localhost:8080/"
        },
        "id": "62_lQV7-wfj0",
        "outputId": "a4140b3d-677e-418f-e4a5-6d24e0a3cfe1"
      },
      "execution_count": 5,
      "outputs": [
        {
          "output_type": "execute_result",
          "data": {
            "text/plain": [
              "1"
            ]
          },
          "metadata": {},
          "execution_count": 5
        }
      ]
    },
    {
      "cell_type": "markdown",
      "source": [
        "# Document Transformers"
      ],
      "metadata": {
        "id": "Q9zEDz4cySgY"
      }
    },
    {
      "cell_type": "code",
      "source": [
        "text_splitter = CharacterTextSplitter(separator=\" \", chunk_size=200, chunk_overlap=0)\n",
        "texts = text_splitter.split_documents(documents)\n",
        "len(texts)"
      ],
      "metadata": {
        "colab": {
          "base_uri": "https://localhost:8080/"
        },
        "id": "aHKFT2lnx1j7",
        "outputId": "5ec7ba60-0dc2-4f7d-95b5-5495d9c8ccd8"
      },
      "execution_count": 6,
      "outputs": [
        {
          "output_type": "execute_result",
          "data": {
            "text/plain": [
              "150"
            ]
          },
          "metadata": {},
          "execution_count": 6
        }
      ]
    },
    {
      "cell_type": "code",
      "source": [
        "texts[:2]"
      ],
      "metadata": {
        "colab": {
          "base_uri": "https://localhost:8080/"
        },
        "id": "SN9qmgQAylYq",
        "outputId": "6455e577-1cdc-4e14-c966-0dc890432080"
      },
      "execution_count": 8,
      "outputs": [
        {
          "output_type": "execute_result",
          "data": {
            "text/plain": [
              "[Document(page_content='Mahendra Singh Dhoni (/məˈheɪndrə ˈsɪŋ dhæˈnɪ/ ⓘ; born 7 July 1981) is an Indian professional cricketer. He is a right handed batter and a wicket-keeper. Widely regarded as one of the most prolific', metadata={'source': 'sample.txt'}),\n",
              " Document(page_content='wicket-keeper-batsmen and captains, he represented the Indian cricket team and was the captain of the side in limited-overs formats from 2007 to 2017 and in test cricket from 2008 to 2014. Dhoni has', metadata={'source': 'sample.txt'})]"
            ]
          },
          "metadata": {},
          "execution_count": 8
        }
      ]
    },
    {
      "cell_type": "markdown",
      "source": [
        "# Text Embedding Models"
      ],
      "metadata": {
        "id": "UUgXYx-WzXlT"
      }
    },
    {
      "cell_type": "code",
      "source": [
        "embeddings = SentenceTransformerEmbeddings(model_name=\"all-MiniLM-L6-v2\")"
      ],
      "metadata": {
        "id": "YOGDtxlKzJ6r"
      },
      "execution_count": null,
      "outputs": []
    },
    {
      "cell_type": "markdown",
      "source": [
        "# Vector Stores"
      ],
      "metadata": {
        "id": "EfDdUWga0Lhn"
      }
    },
    {
      "cell_type": "code",
      "source": [
        "db = Chroma.from_documents(texts, embeddings)"
      ],
      "metadata": {
        "id": "EqXoI4mn0KEO"
      },
      "execution_count": 10,
      "outputs": []
    },
    {
      "cell_type": "code",
      "source": [
        "db._collection.get(include=['embeddings'])"
      ],
      "metadata": {
        "id": "c9MylagjzmBi"
      },
      "execution_count": null,
      "outputs": []
    },
    {
      "cell_type": "markdown",
      "source": [
        "# Retrievers"
      ],
      "metadata": {
        "id": "QuvaQwBb04kR"
      }
    },
    {
      "cell_type": "code",
      "source": [
        "retriever = db.as_retriever(search_kwargs={\"k\":5})"
      ],
      "metadata": {
        "id": "ol-RqAc200UK"
      },
      "execution_count": 12,
      "outputs": []
    },
    {
      "cell_type": "code",
      "source": [
        "retriever"
      ],
      "metadata": {
        "colab": {
          "base_uri": "https://localhost:8080/"
        },
        "id": "bejIGX6r1EfB",
        "outputId": "6ea53c6f-530e-4404-f59f-fd5bde9510ea"
      },
      "execution_count": 13,
      "outputs": [
        {
          "output_type": "execute_result",
          "data": {
            "text/plain": [
              "VectorStoreRetriever(tags=['Chroma', 'HuggingFaceEmbeddings'], vectorstore=<langchain_community.vectorstores.chroma.Chroma object at 0x7947ebd41cf0>, search_kwargs={'k': 5})"
            ]
          },
          "metadata": {},
          "execution_count": 13
        }
      ]
    },
    {
      "cell_type": "markdown",
      "source": [
        "# Question 1"
      ],
      "metadata": {
        "id": "ZsZ5Oe5i1SU4"
      }
    },
    {
      "cell_type": "code",
      "source": [
        "docs = retriever.get_relevant_documents(\"who married dhoni\")"
      ],
      "metadata": {
        "id": "8qnbt8VE1F_K"
      },
      "execution_count": 14,
      "outputs": []
    },
    {
      "cell_type": "code",
      "source": [
        "docs"
      ],
      "metadata": {
        "colab": {
          "base_uri": "https://localhost:8080/"
        },
        "id": "OqWD4_DT1a3i",
        "outputId": "e8789020-83b0-4176-d072-a2a9131fbd0f"
      },
      "execution_count": 15,
      "outputs": [
        {
          "output_type": "execute_result",
          "data": {
            "text/plain": [
              "[Document(page_content='Dhoni is also known for his cool-headed demeanor on the field which has earned him the monicker \"Captain cool\".[173]\\nPersonal life\\n\\nDhoni married Sakshi Singh Rawat on 4 July 2010 in', metadata={'source': 'sample.txt'}),\n",
              " Document(page_content='Dehradun.[174][175] Dhoni and his wife have a daughter, Zeeva born on 6 February 2015.[176][177] He lives in his farmhouse outside Ranchi.[178] Dhoni owns a number of bikes and cars in his', metadata={'source': 'sample.txt'}),\n",
              " Document(page_content='On 9 July 2019, Dhoni played in his 350th and final ODI in the semi-final loss against New Zealand.[114] Dhoni announced his retirement from international cricket on 15 August 2020 as he had not', metadata={'source': 'sample.txt'}),\n",
              " Document(page_content='three children.[5][6][7] His family spells the surname as \"Dhauni\".[8]\\n\\nDhoni did his schooling at DAV Jawahar Vidya Mandir where he started playing football as a goal keeper but later moved to play', metadata={'source': 'sample.txt'}),\n",
              " Document(page_content='wicket-keeper-batsmen and captains, he represented the Indian cricket team and was the captain of the side in limited-overs formats from 2007 to 2017 and in test cricket from 2008 to 2014. Dhoni has', metadata={'source': 'sample.txt'})]"
            ]
          },
          "metadata": {},
          "execution_count": 15
        }
      ]
    },
    {
      "cell_type": "code",
      "source": [],
      "metadata": {
        "id": "MoFiNCvI1lbx"
      },
      "execution_count": null,
      "outputs": []
    }
  ]
}